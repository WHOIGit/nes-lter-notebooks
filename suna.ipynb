{
 "cells": [
  {
   "cell_type": "markdown",
   "metadata": {},
   "source": [
    "### Compute nitrate profile from SUNA data with temperature and salinity correction from co-located CTD"
   ]
  },
  {
   "cell_type": "code",
   "execution_count": 1,
   "metadata": {},
   "outputs": [],
   "source": [
    "import os\n",
    "\n",
    "# your paths will vary\n",
    "cal_file_dir = r'./suna/en627'\n",
    "cal_file_name = 'SNA0728C.CAL'\n",
    "cal_file_path = os.path.join(cal_file_dir, cal_file_name)\n",
    "assert os.path.exists(cal_file_path)"
   ]
  },
  {
   "cell_type": "code",
   "execution_count": 2,
   "metadata": {},
   "outputs": [],
   "source": [
    "# your paths will vary\n",
    "data_dir =r'./suna/en627'\n",
    "data_file_name = 'A0000020-SUNA0728.csv'\n",
    "data_file_path = os.path.join(data_dir, data_file_name)\n",
    "assert os.path.exists(data_file_path)"
   ]
  },
  {
   "cell_type": "markdown",
   "metadata": {},
   "source": [
    "#### Fetch associated CTD data"
   ]
  },
  {
   "cell_type": "code",
   "execution_count": 3,
   "metadata": {},
   "outputs": [
    {
     "data": {
      "text/html": [
       "<div>\n",
       "<style scoped>\n",
       "    .dataframe tbody tr th:only-of-type {\n",
       "        vertical-align: middle;\n",
       "    }\n",
       "\n",
       "    .dataframe tbody tr th {\n",
       "        vertical-align: top;\n",
       "    }\n",
       "\n",
       "    .dataframe thead th {\n",
       "        text-align: right;\n",
       "    }\n",
       "</style>\n",
       "<table border=\"1\" class=\"dataframe\">\n",
       "  <thead>\n",
       "    <tr style=\"text-align: right;\">\n",
       "      <th></th>\n",
       "      <th>cruise</th>\n",
       "      <th>cast</th>\n",
       "      <th>scan</th>\n",
       "      <th>timej</th>\n",
       "      <th>times</th>\n",
       "      <th>prdm</th>\n",
       "      <th>t090c</th>\n",
       "      <th>t190c</th>\n",
       "      <th>t2_t190c</th>\n",
       "      <th>c0s_m</th>\n",
       "      <th>...</th>\n",
       "      <th>oxsatmm_kg</th>\n",
       "      <th>potemp090c</th>\n",
       "      <th>potemp190c</th>\n",
       "      <th>svcm</th>\n",
       "      <th>svcm1</th>\n",
       "      <th>dz_dtm</th>\n",
       "      <th>gpa</th>\n",
       "      <th>nbin</th>\n",
       "      <th>flag</th>\n",
       "      <th>date</th>\n",
       "    </tr>\n",
       "    <tr>\n",
       "      <th>date</th>\n",
       "      <th></th>\n",
       "      <th></th>\n",
       "      <th></th>\n",
       "      <th></th>\n",
       "      <th></th>\n",
       "      <th></th>\n",
       "      <th></th>\n",
       "      <th></th>\n",
       "      <th></th>\n",
       "      <th></th>\n",
       "      <th></th>\n",
       "      <th></th>\n",
       "      <th></th>\n",
       "      <th></th>\n",
       "      <th></th>\n",
       "      <th></th>\n",
       "      <th></th>\n",
       "      <th></th>\n",
       "      <th></th>\n",
       "      <th></th>\n",
       "      <th></th>\n",
       "    </tr>\n",
       "  </thead>\n",
       "  <tbody>\n",
       "    <tr>\n",
       "      <th>2019-02-05 07:24:48.494000+00:00</th>\n",
       "      <td>EN627</td>\n",
       "      <td>31</td>\n",
       "      <td>1069</td>\n",
       "      <td>36.308987</td>\n",
       "      <td>44.494</td>\n",
       "      <td>4.031</td>\n",
       "      <td>6.7638</td>\n",
       "      <td>6.7630</td>\n",
       "      <td>-0.0008</td>\n",
       "      <td>3.335195</td>\n",
       "      <td>...</td>\n",
       "      <td>299.61652</td>\n",
       "      <td>6.7634</td>\n",
       "      <td>6.7626</td>\n",
       "      <td>1475.43</td>\n",
       "      <td>1475.43</td>\n",
       "      <td>0.059</td>\n",
       "      <td>0.069</td>\n",
       "      <td>1784</td>\n",
       "      <td>0.0</td>\n",
       "      <td>2019-02-05 07:24:48.494000+00:00</td>\n",
       "    </tr>\n",
       "    <tr>\n",
       "      <th>2019-02-05 07:25:24.746000+00:00</th>\n",
       "      <td>EN627</td>\n",
       "      <td>31</td>\n",
       "      <td>1939</td>\n",
       "      <td>36.309406</td>\n",
       "      <td>80.746</td>\n",
       "      <td>5.039</td>\n",
       "      <td>6.7612</td>\n",
       "      <td>6.7575</td>\n",
       "      <td>-0.0037</td>\n",
       "      <td>3.335001</td>\n",
       "      <td>...</td>\n",
       "      <td>299.63486</td>\n",
       "      <td>6.7608</td>\n",
       "      <td>6.7571</td>\n",
       "      <td>1475.44</td>\n",
       "      <td>1475.42</td>\n",
       "      <td>0.433</td>\n",
       "      <td>0.138</td>\n",
       "      <td>53</td>\n",
       "      <td>0.0</td>\n",
       "      <td>2019-02-05 07:25:24.746000+00:00</td>\n",
       "    </tr>\n",
       "    <tr>\n",
       "      <th>2019-02-05 07:25:27.650000+00:00</th>\n",
       "      <td>EN627</td>\n",
       "      <td>31</td>\n",
       "      <td>2009</td>\n",
       "      <td>36.309441</td>\n",
       "      <td>83.650</td>\n",
       "      <td>6.046</td>\n",
       "      <td>6.7412</td>\n",
       "      <td>6.7411</td>\n",
       "      <td>-0.0002</td>\n",
       "      <td>3.333200</td>\n",
       "      <td>...</td>\n",
       "      <td>299.77664</td>\n",
       "      <td>6.7407</td>\n",
       "      <td>6.7405</td>\n",
       "      <td>1475.37</td>\n",
       "      <td>1475.38</td>\n",
       "      <td>0.283</td>\n",
       "      <td>0.159</td>\n",
       "      <td>88</td>\n",
       "      <td>0.0</td>\n",
       "      <td>2019-02-05 07:25:27.650000+00:00</td>\n",
       "    </tr>\n",
       "    <tr>\n",
       "      <th>2019-02-05 07:25:30.833000+00:00</th>\n",
       "      <td>EN627</td>\n",
       "      <td>31</td>\n",
       "      <td>2085</td>\n",
       "      <td>36.309479</td>\n",
       "      <td>86.833</td>\n",
       "      <td>7.054</td>\n",
       "      <td>6.7425</td>\n",
       "      <td>6.7414</td>\n",
       "      <td>-0.0011</td>\n",
       "      <td>3.333366</td>\n",
       "      <td>...</td>\n",
       "      <td>299.76721</td>\n",
       "      <td>6.7419</td>\n",
       "      <td>6.7408</td>\n",
       "      <td>1475.39</td>\n",
       "      <td>1475.39</td>\n",
       "      <td>0.386</td>\n",
       "      <td>0.179</td>\n",
       "      <td>62</td>\n",
       "      <td>0.0</td>\n",
       "      <td>2019-02-05 07:25:30.833000+00:00</td>\n",
       "    </tr>\n",
       "    <tr>\n",
       "      <th>2019-02-05 07:25:34.047999999+00:00</th>\n",
       "      <td>EN627</td>\n",
       "      <td>31</td>\n",
       "      <td>2162</td>\n",
       "      <td>36.309513</td>\n",
       "      <td>90.048</td>\n",
       "      <td>8.062</td>\n",
       "      <td>6.7345</td>\n",
       "      <td>6.7346</td>\n",
       "      <td>0.0001</td>\n",
       "      <td>3.332743</td>\n",
       "      <td>...</td>\n",
       "      <td>299.82275</td>\n",
       "      <td>6.7337</td>\n",
       "      <td>6.7339</td>\n",
       "      <td>1475.38</td>\n",
       "      <td>1475.38</td>\n",
       "      <td>0.251</td>\n",
       "      <td>0.200</td>\n",
       "      <td>101</td>\n",
       "      <td>0.0</td>\n",
       "      <td>2019-02-05 07:25:34.047999999+00:00</td>\n",
       "    </tr>\n",
       "  </tbody>\n",
       "</table>\n",
       "<p>5 rows × 50 columns</p>\n",
       "</div>"
      ],
      "text/plain": [
       "                                    cruise  cast  scan      timej   times  \\\n",
       "date                                                                        \n",
       "2019-02-05 07:24:48.494000+00:00     EN627    31  1069  36.308987  44.494   \n",
       "2019-02-05 07:25:24.746000+00:00     EN627    31  1939  36.309406  80.746   \n",
       "2019-02-05 07:25:27.650000+00:00     EN627    31  2009  36.309441  83.650   \n",
       "2019-02-05 07:25:30.833000+00:00     EN627    31  2085  36.309479  86.833   \n",
       "2019-02-05 07:25:34.047999999+00:00  EN627    31  2162  36.309513  90.048   \n",
       "\n",
       "                                      prdm   t090c   t190c  t2_t190c  \\\n",
       "date                                                                   \n",
       "2019-02-05 07:24:48.494000+00:00     4.031  6.7638  6.7630   -0.0008   \n",
       "2019-02-05 07:25:24.746000+00:00     5.039  6.7612  6.7575   -0.0037   \n",
       "2019-02-05 07:25:27.650000+00:00     6.046  6.7412  6.7411   -0.0002   \n",
       "2019-02-05 07:25:30.833000+00:00     7.054  6.7425  6.7414   -0.0011   \n",
       "2019-02-05 07:25:34.047999999+00:00  8.062  6.7345  6.7346    0.0001   \n",
       "\n",
       "                                        c0s_m  ...  oxsatmm_kg  potemp090c  \\\n",
       "date                                           ...                           \n",
       "2019-02-05 07:24:48.494000+00:00     3.335195  ...   299.61652      6.7634   \n",
       "2019-02-05 07:25:24.746000+00:00     3.335001  ...   299.63486      6.7608   \n",
       "2019-02-05 07:25:27.650000+00:00     3.333200  ...   299.77664      6.7407   \n",
       "2019-02-05 07:25:30.833000+00:00     3.333366  ...   299.76721      6.7419   \n",
       "2019-02-05 07:25:34.047999999+00:00  3.332743  ...   299.82275      6.7337   \n",
       "\n",
       "                                     potemp190c     svcm    svcm1  dz_dtm  \\\n",
       "date                                                                        \n",
       "2019-02-05 07:24:48.494000+00:00         6.7626  1475.43  1475.43   0.059   \n",
       "2019-02-05 07:25:24.746000+00:00         6.7571  1475.44  1475.42   0.433   \n",
       "2019-02-05 07:25:27.650000+00:00         6.7405  1475.37  1475.38   0.283   \n",
       "2019-02-05 07:25:30.833000+00:00         6.7408  1475.39  1475.39   0.386   \n",
       "2019-02-05 07:25:34.047999999+00:00      6.7339  1475.38  1475.38   0.251   \n",
       "\n",
       "                                       gpa  nbin  flag  \\\n",
       "date                                                     \n",
       "2019-02-05 07:24:48.494000+00:00     0.069  1784   0.0   \n",
       "2019-02-05 07:25:24.746000+00:00     0.138    53   0.0   \n",
       "2019-02-05 07:25:27.650000+00:00     0.159    88   0.0   \n",
       "2019-02-05 07:25:30.833000+00:00     0.179    62   0.0   \n",
       "2019-02-05 07:25:34.047999999+00:00  0.200   101   0.0   \n",
       "\n",
       "                                                                    date  \n",
       "date                                                                      \n",
       "2019-02-05 07:24:48.494000+00:00        2019-02-05 07:24:48.494000+00:00  \n",
       "2019-02-05 07:25:24.746000+00:00        2019-02-05 07:25:24.746000+00:00  \n",
       "2019-02-05 07:25:27.650000+00:00        2019-02-05 07:25:27.650000+00:00  \n",
       "2019-02-05 07:25:30.833000+00:00        2019-02-05 07:25:30.833000+00:00  \n",
       "2019-02-05 07:25:34.047999999+00:00  2019-02-05 07:25:34.047999999+00:00  \n",
       "\n",
       "[5 rows x 50 columns]"
      ]
     },
     "execution_count": 3,
     "metadata": {},
     "output_type": "execute_result"
    }
   ],
   "source": [
    "import pandas as pd\n",
    "\n",
    "# we know a priori that cast 31 is associated with A0000020\n",
    "url = 'https://nes-lter-data.whoi.edu/api/ctd/en627/cast_31.csv'\n",
    "cast = pd.read_csv(url)\n",
    "cast.index = pd.to_datetime(cast.date, utc=True)\n",
    "cast.head()"
   ]
  },
  {
   "cell_type": "markdown",
   "metadata": {},
   "source": [
    "#### Parse the SUNA calibration file to get\n",
    "* Calibration temperature\n",
    "* Wavelength bins\n",
    "* Extinction coefficients\n",
    "* Reference spectrum"
   ]
  },
  {
   "cell_type": "code",
   "execution_count": 4,
   "metadata": {},
   "outputs": [],
   "source": [
    "from neslter.parsing.suna import parse_suna_data, parse_suna_cal\n",
    "\n",
    "t_cal, wavelength, no3, swa, reference = parse_suna_cal(cal_file_path)"
   ]
  },
  {
   "cell_type": "markdown",
   "metadata": {},
   "source": [
    "#### Parse the SUNA data file to get\n",
    "* Timestamps\n",
    "* Dark values\n",
    "* Frame type (dummy argument for ts_corrected nitrate as we've stripped out the dark frames)\n",
    "* Timeseries of spectra"
   ]
  },
  {
   "cell_type": "code",
   "execution_count": 5,
   "metadata": {},
   "outputs": [],
   "source": [
    "suna_ts, dark_value, frame_type, data_in = parse_suna_data(data_file_path)"
   ]
  },
  {
   "cell_type": "markdown",
   "metadata": {},
   "source": [
    "#### Interpolate CTD data to the SUNA timestamps"
   ]
  },
  {
   "cell_type": "code",
   "execution_count": 6,
   "metadata": {},
   "outputs": [],
   "source": [
    "def interpolate_timeseries(data, new_timebase):\n",
    "    \"\"\"data should be time-indexed, new_timebase should be a series-like list of datetimes.\n",
    "    both must be sorted\"\"\"\n",
    "    idx = data.index.union(new_timebase)\n",
    "    interped = data.reindex(idx).interpolate().reindex(new_timebase)\n",
    "    return interped\n",
    "\n",
    "tsal = cast[['t090c','sal00','depsm']]\n",
    "tsal_interp = interpolate_timeseries(tsal, suna_ts).fillna(0)\n",
    "degc = tsal_interp.t090c\n",
    "psu = tsal_interp.sal00"
   ]
  },
  {
   "cell_type": "markdown",
   "metadata": {},
   "source": [
    "#### Produce the temperature / salinity corrected nitrate value"
   ]
  },
  {
   "cell_type": "code",
   "execution_count": 7,
   "metadata": {},
   "outputs": [
    {
     "name": "stderr",
     "output_type": "stream",
     "text": [
      "c:\\users\\joefutrelle\\documents\\github\\nes-lter-ims\\neslter\\analysis\\suna.py:106: RuntimeWarning: divide by zero encountered in true_divide\n",
      "  absorb = np.log10(di / raw_corr)\n",
      "c:\\users\\joefutrelle\\documents\\github\\nes-lter-ims\\neslter\\analysis\\suna.py:106: RuntimeWarning: invalid value encountered in log10\n",
      "  absorb = np.log10(di / raw_corr)\n"
     ]
    }
   ],
   "source": [
    "from neslter.analysis.suna import ts_corrected_nitrate\n",
    "\n",
    "nitrate = ts_corrected_nitrate(t_cal, wavelength, no3, swa, reference, dark_value, degc, psu, data_in, frame_type)"
   ]
  },
  {
   "cell_type": "markdown",
   "metadata": {},
   "source": [
    "The SUNA data may include data collected before or after the cast. Exclude that data"
   ]
  },
  {
   "cell_type": "code",
   "execution_count": 8,
   "metadata": {},
   "outputs": [
    {
     "data": {
      "image/png": "[encoded data removed]",
      "text/plain": [
       "<Figure size 432x288 with 1 Axes>"
      ]
     },
     "metadata": {
      "needs_background": "light"
     },
     "output_type": "display_data"
    }
   ],
   "source": [
    "%matplotlib inline\n",
    "import pandas as pd\n",
    "\n",
    "cast_start = cast.index[0]\n",
    "cast_end = cast.index[-1]\n",
    "\n",
    "nit = pd.Series(nitrate, index=suna_ts)\n",
    "\n",
    "cast_nit = nit[cast_start:cast_end]\n",
    "\n",
    "cast_nit.plot();"
   ]
  },
  {
   "cell_type": "markdown",
   "metadata": {},
   "source": [
    "Now plot the profile"
   ]
  },
  {
   "cell_type": "code",
   "execution_count": 9,
   "metadata": {},
   "outputs": [
    {
     "data": {
      "image/png": "[encoded data removed]",
      "text/plain": [
       "<Figure size 504x1080 with 3 Axes>"
      ]
     },
     "metadata": {
      "needs_background": "light"
     },
     "output_type": "display_data"
    }
   ],
   "source": [
    "from matplotlib import pyplot as plt\n",
    "\n",
    "ti = tsal_interp[cast_start:cast_end]\n",
    "\n",
    "fig, ax1 = plt.subplots(figsize=(7,15))\n",
    "\n",
    "ax2, ax3 = [ax1.twiny(), ax1.twiny()]\n",
    "\n",
    "plt.gca().invert_yaxis()\n",
    "\n",
    "p1 = ax1.plot(cast_nit, ti.depsm, c='r')\n",
    "p2 = ax2.plot(ti.t090c, ti.depsm, c='b')\n",
    "p3 = ax3.plot(ti.sal00, ti.depsm, c='g')\n",
    "\n",
    "ax1.set_xlabel('nitrate')\n",
    "ax2.set_xlabel('temperature')\n",
    "ax3.set_xlabel('salinity')\n",
    "\n",
    "ax1.set_ylabel('depth')\n",
    "\n",
    "ax3.spines['top'].set_position(('outward', 40))\n",
    "\n",
    "fig.legend(['nitrate','temperature','salinity'], loc=(0.2,0.1));"
   ]
  }
 ],
 "metadata": {
  "kernelspec": {
   "display_name": "Python [conda env:nes-lter-ims-dev]",
   "language": "python",
   "name": "conda-env-nes-lter-ims-dev-py"
  },
  "language_info": {
   "codemirror_mode": {
    "name": "ipython",
    "version": 3
   },
   "file_extension": ".py",
   "mimetype": "text/x-python",
   "name": "python",
   "nbconvert_exporter": "python",
   "pygments_lexer": "ipython3",
   "version": "3.6.6"
  }
 },
 "nbformat": 4,
 "nbformat_minor": 2
}
