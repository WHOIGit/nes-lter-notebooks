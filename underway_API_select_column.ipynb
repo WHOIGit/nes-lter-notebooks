{
 "cells": [
  {
   "cell_type": "markdown",
   "metadata": {},
   "source": [
    "## NES-LTER: underway API select which of two sensors\n",
    "Stace Beaulieu 2020-04-07\n",
    "\n",
    "In the underway data provided by Endeavor and Armstrong on NES-LTER Transect cruises, there are often two sensors measuring the same parameter. This is a notebook to help select which of two sensors to display in the regularized columns in the NES-LTER REST API.\n"
   ]
  },
  {
   "cell_type": "markdown",
   "metadata": {},
   "source": [
    "Read in underway data from a particular cruise"
   ]
  },
  {
   "cell_type": "code",
   "execution_count": 568,
   "metadata": {},
   "outputs": [
    {
     "data": {
      "text/html": [
       "<div>\n",
       "<style scoped>\n",
       "    .dataframe tbody tr th:only-of-type {\n",
       "        vertical-align: middle;\n",
       "    }\n",
       "\n",
       "    .dataframe tbody tr th {\n",
       "        vertical-align: top;\n",
       "    }\n",
       "\n",
       "    .dataframe thead th {\n",
       "        text-align: right;\n",
       "    }\n",
       "</style>\n",
       "<table border=\"1\" class=\"dataframe\">\n",
       "  <thead>\n",
       "    <tr style=\"text-align: right;\">\n",
       "      <th></th>\n",
       "      <th>dec_lat</th>\n",
       "      <th>dec_lon</th>\n",
       "      <th>spd</th>\n",
       "      <th>hdt</th>\n",
       "      <th>cog</th>\n",
       "      <th>sog</th>\n",
       "      <th>wxtp_ta</th>\n",
       "      <th>wxts_ta</th>\n",
       "      <th>wxtp_pa</th>\n",
       "      <th>wxts_pa</th>\n",
       "      <th>...</th>\n",
       "      <th>par</th>\n",
       "      <th>sbe45s</th>\n",
       "      <th>sbe48t</th>\n",
       "      <th>barom_p</th>\n",
       "      <th>barom_s</th>\n",
       "      <th>flr</th>\n",
       "      <th>ssvdslog</th>\n",
       "      <th>depth12</th>\n",
       "      <th>depth35</th>\n",
       "      <th>em122</th>\n",
       "    </tr>\n",
       "    <tr>\n",
       "      <th>date</th>\n",
       "      <th></th>\n",
       "      <th></th>\n",
       "      <th></th>\n",
       "      <th></th>\n",
       "      <th></th>\n",
       "      <th></th>\n",
       "      <th></th>\n",
       "      <th></th>\n",
       "      <th></th>\n",
       "      <th></th>\n",
       "      <th></th>\n",
       "      <th></th>\n",
       "      <th></th>\n",
       "      <th></th>\n",
       "      <th></th>\n",
       "      <th></th>\n",
       "      <th></th>\n",
       "      <th></th>\n",
       "      <th></th>\n",
       "      <th></th>\n",
       "      <th></th>\n",
       "    </tr>\n",
       "  </thead>\n",
       "  <tbody>\n",
       "    <tr>\n",
       "      <th>2017-09-02 00:00:03.058000+00:00</th>\n",
       "      <td>41.524</td>\n",
       "      <td>-70.672</td>\n",
       "      <td>NaN</td>\n",
       "      <td>62.72</td>\n",
       "      <td>135.0</td>\n",
       "      <td>0.01</td>\n",
       "      <td>18.6</td>\n",
       "      <td>18.4</td>\n",
       "      <td>1017.0</td>\n",
       "      <td>1016.9</td>\n",
       "      <td>...</td>\n",
       "      <td>0.0</td>\n",
       "      <td>0.2799</td>\n",
       "      <td>20.5972</td>\n",
       "      <td>1019.1</td>\n",
       "      <td>1019.0</td>\n",
       "      <td>61.9</td>\n",
       "      <td>1484.585</td>\n",
       "      <td>NaN</td>\n",
       "      <td>NaN</td>\n",
       "      <td>NaN</td>\n",
       "    </tr>\n",
       "    <tr>\n",
       "      <th>2017-09-02 00:01:03.058000+00:00</th>\n",
       "      <td>41.524</td>\n",
       "      <td>-70.672</td>\n",
       "      <td>NaN</td>\n",
       "      <td>62.78</td>\n",
       "      <td>191.3</td>\n",
       "      <td>0.01</td>\n",
       "      <td>18.6</td>\n",
       "      <td>18.4</td>\n",
       "      <td>1017.0</td>\n",
       "      <td>1016.9</td>\n",
       "      <td>...</td>\n",
       "      <td>0.0</td>\n",
       "      <td>0.2799</td>\n",
       "      <td>20.6320</td>\n",
       "      <td>1019.1</td>\n",
       "      <td>1019.0</td>\n",
       "      <td>61.6</td>\n",
       "      <td>1484.690</td>\n",
       "      <td>NaN</td>\n",
       "      <td>NaN</td>\n",
       "      <td>NaN</td>\n",
       "    </tr>\n",
       "    <tr>\n",
       "      <th>2017-09-02 00:02:03.058000+00:00</th>\n",
       "      <td>41.524</td>\n",
       "      <td>-70.672</td>\n",
       "      <td>NaN</td>\n",
       "      <td>62.84</td>\n",
       "      <td>243.4</td>\n",
       "      <td>0.00</td>\n",
       "      <td>18.6</td>\n",
       "      <td>18.4</td>\n",
       "      <td>1017.0</td>\n",
       "      <td>1017.0</td>\n",
       "      <td>...</td>\n",
       "      <td>0.0</td>\n",
       "      <td>0.2799</td>\n",
       "      <td>20.6710</td>\n",
       "      <td>1019.1</td>\n",
       "      <td>1019.1</td>\n",
       "      <td>61.6</td>\n",
       "      <td>1484.808</td>\n",
       "      <td>NaN</td>\n",
       "      <td>NaN</td>\n",
       "      <td>NaN</td>\n",
       "    </tr>\n",
       "    <tr>\n",
       "      <th>2017-09-02 00:03:03.058000+00:00</th>\n",
       "      <td>41.524</td>\n",
       "      <td>-70.672</td>\n",
       "      <td>NaN</td>\n",
       "      <td>62.75</td>\n",
       "      <td>180.0</td>\n",
       "      <td>0.00</td>\n",
       "      <td>18.6</td>\n",
       "      <td>18.4</td>\n",
       "      <td>1017.0</td>\n",
       "      <td>1017.0</td>\n",
       "      <td>...</td>\n",
       "      <td>0.0</td>\n",
       "      <td>0.2799</td>\n",
       "      <td>20.7296</td>\n",
       "      <td>1019.1</td>\n",
       "      <td>1019.1</td>\n",
       "      <td>61.7</td>\n",
       "      <td>1484.984</td>\n",
       "      <td>NaN</td>\n",
       "      <td>NaN</td>\n",
       "      <td>NaN</td>\n",
       "    </tr>\n",
       "    <tr>\n",
       "      <th>2017-09-02 00:04:03.058000+00:00</th>\n",
       "      <td>41.524</td>\n",
       "      <td>-70.672</td>\n",
       "      <td>NaN</td>\n",
       "      <td>62.85</td>\n",
       "      <td>135.0</td>\n",
       "      <td>0.01</td>\n",
       "      <td>18.6</td>\n",
       "      <td>18.4</td>\n",
       "      <td>1017.0</td>\n",
       "      <td>1017.0</td>\n",
       "      <td>...</td>\n",
       "      <td>0.0</td>\n",
       "      <td>0.2799</td>\n",
       "      <td>20.7681</td>\n",
       "      <td>1019.1</td>\n",
       "      <td>1019.1</td>\n",
       "      <td>61.5</td>\n",
       "      <td>1485.100</td>\n",
       "      <td>NaN</td>\n",
       "      <td>NaN</td>\n",
       "      <td>NaN</td>\n",
       "    </tr>\n",
       "  </tbody>\n",
       "</table>\n",
       "<p>5 rows × 36 columns</p>\n",
       "</div>"
      ],
      "text/plain": [
       "                                  dec_lat  dec_lon  spd    hdt    cog   sog  \\\n",
       "date                                                                          \n",
       "2017-09-02 00:00:03.058000+00:00   41.524  -70.672  NaN  62.72  135.0  0.01   \n",
       "2017-09-02 00:01:03.058000+00:00   41.524  -70.672  NaN  62.78  191.3  0.01   \n",
       "2017-09-02 00:02:03.058000+00:00   41.524  -70.672  NaN  62.84  243.4  0.00   \n",
       "2017-09-02 00:03:03.058000+00:00   41.524  -70.672  NaN  62.75  180.0  0.00   \n",
       "2017-09-02 00:04:03.058000+00:00   41.524  -70.672  NaN  62.85  135.0  0.01   \n",
       "\n",
       "                                  wxtp_ta  wxts_ta  wxtp_pa  wxts_pa  ...  \\\n",
       "date                                                                  ...   \n",
       "2017-09-02 00:00:03.058000+00:00     18.6     18.4   1017.0   1016.9  ...   \n",
       "2017-09-02 00:01:03.058000+00:00     18.6     18.4   1017.0   1016.9  ...   \n",
       "2017-09-02 00:02:03.058000+00:00     18.6     18.4   1017.0   1017.0  ...   \n",
       "2017-09-02 00:03:03.058000+00:00     18.6     18.4   1017.0   1017.0  ...   \n",
       "2017-09-02 00:04:03.058000+00:00     18.6     18.4   1017.0   1017.0  ...   \n",
       "\n",
       "                                  par  sbe45s   sbe48t  barom_p  barom_s  \\\n",
       "date                                                                       \n",
       "2017-09-02 00:00:03.058000+00:00  0.0  0.2799  20.5972   1019.1   1019.0   \n",
       "2017-09-02 00:01:03.058000+00:00  0.0  0.2799  20.6320   1019.1   1019.0   \n",
       "2017-09-02 00:02:03.058000+00:00  0.0  0.2799  20.6710   1019.1   1019.1   \n",
       "2017-09-02 00:03:03.058000+00:00  0.0  0.2799  20.7296   1019.1   1019.1   \n",
       "2017-09-02 00:04:03.058000+00:00  0.0  0.2799  20.7681   1019.1   1019.1   \n",
       "\n",
       "                                   flr  ssvdslog  depth12  depth35  em122  \n",
       "date                                                                       \n",
       "2017-09-02 00:00:03.058000+00:00  61.9  1484.585      NaN      NaN    NaN  \n",
       "2017-09-02 00:01:03.058000+00:00  61.6  1484.690      NaN      NaN    NaN  \n",
       "2017-09-02 00:02:03.058000+00:00  61.6  1484.808      NaN      NaN    NaN  \n",
       "2017-09-02 00:03:03.058000+00:00  61.7  1484.984      NaN      NaN    NaN  \n",
       "2017-09-02 00:04:03.058000+00:00  61.5  1485.100      NaN      NaN    NaN  \n",
       "\n",
       "[5 rows x 36 columns]"
      ]
     },
     "execution_count": 568,
     "metadata": {},
     "output_type": "execute_result"
    }
   ],
   "source": [
    "import pandas as pd\n",
    "\n",
    "# https://nes-lter-data.whoi.edu/api/underway/ar32.csv\n",
    "# note to replace the cruise identifier\n",
    "BASE_URL = 'https://nes-lter-data.whoi.edu/api/underway/'\n",
    "uw = pd.read_csv(BASE_URL + 'ar22.csv',\n",
    "                 parse_dates=['date'], index_col='date')\n",
    "\n",
    "uw.head(5)\n"
   ]
  },
  {
   "cell_type": "code",
   "execution_count": 496,
   "metadata": {},
   "outputs": [
    {
     "data": {
      "text/plain": [
       "['dec_lat',\n",
       " 'dec_lon',\n",
       " 'spd',\n",
       " 'hdt',\n",
       " 'cog',\n",
       " 'sog',\n",
       " 'wxtp_ta',\n",
       " 'wxts_ta',\n",
       " 'wxtp_pa',\n",
       " 'wxts_pa',\n",
       " 'wxtp_ri',\n",
       " 'wxts_ri',\n",
       " 'wxtp_rc',\n",
       " 'wxts_rc',\n",
       " 'wxtp_dm',\n",
       " 'wxts_dm',\n",
       " 'wxtp_sm',\n",
       " 'wxts_sm',\n",
       " 'wxtp_ua',\n",
       " 'wxts_ua',\n",
       " 'wxtp_ts',\n",
       " 'wxts_ts',\n",
       " 'wxtp_td',\n",
       " 'wxts_td',\n",
       " 'rad_sw',\n",
       " 'rad_lw',\n",
       " 'par',\n",
       " 'sbe45s',\n",
       " 'sbe48t',\n",
       " 'barom_p',\n",
       " 'barom_s',\n",
       " 'flr',\n",
       " 'ssvdslog',\n",
       " 'depth12',\n",
       " 'depth35',\n",
       " 'em122']"
      ]
     },
     "execution_count": 496,
     "metadata": {},
     "output_type": "execute_result"
    }
   ],
   "source": [
    "# List columns\n",
    "list(uw.columns)"
   ]
  },
  {
   "cell_type": "markdown",
   "metadata": {},
   "source": [
    "Select two columns to compare"
   ]
  },
  {
   "cell_type": "code",
   "execution_count": 569,
   "metadata": {},
   "outputs": [],
   "source": [
    "# # ar22, ar24a, ar24b, ar24c, ar28a, ar28b, ar31a, ar31b, ar31c, ar32\n",
    "# # ar34a, ar34b, ar38, ar39a, ar39b\n",
    "# # airTemperature WXTP_Ta and WXTS_Ta Port and Starboard\n",
    "# airTempPort = uw['wxtp_ta']\n",
    "# airTempStbd = uw['wxts_ta']\n",
    "\n",
    "# # ar22, ar24a, ar24b, ar24c, ar28a, ar28b, ar31a, ar31b, ar31c, ar32\n",
    "# # ar34a, ar34b, ar38, ar39a, ar39b\n",
    "# # atmosphericPressure BAROM_P and BAROM_S Port and Starboard\n",
    "# atmPressPort = uw['barom_p']\n",
    "# atmPressStbd = uw['barom_s']\n",
    "\n",
    "# # ar22, ar24a, ar24b, ar24c, ar32 windSpeedTrue WXTP_TS and WXTS_TS Port and Starboard\n",
    "# Port = uw['wxtp_ts']\n",
    "# Stbd = uw['wxts_ts']\n",
    "\n",
    "# ar22, ar32 windDirectionTrue WXTP_TD and WXTS_TD Port and Starboard\n",
    "Port = uw['wxtp_td']\n",
    "Stbd = uw['wxts_td']"
   ]
  },
  {
   "cell_type": "code",
   "execution_count": 570,
   "metadata": {},
   "outputs": [
    {
     "data": {
      "text/plain": [
       "(0.1, 154.44402025710949, 359.9)"
      ]
     },
     "execution_count": 570,
     "metadata": {},
     "output_type": "execute_result"
    }
   ],
   "source": [
    "# airTempPort.min(), airTempPort.mean(), airTempPort.max()\n",
    "# airTempPort['2017-11-06'].mean()\n",
    "# atmPressPort.min(), atmPressPort.mean(), atmPressPort.max()\n",
    "Port.min(), Port.mean(), Port.max()"
   ]
  },
  {
   "cell_type": "code",
   "execution_count": 571,
   "metadata": {},
   "outputs": [
    {
     "data": {
      "text/plain": [
       "(0.1, 151.708959875341, 359.9)"
      ]
     },
     "execution_count": 571,
     "metadata": {},
     "output_type": "execute_result"
    }
   ],
   "source": [
    "# airTempStbd.min(), airTempStbd.mean(), airTempStbd.max()\n",
    "# airTempStbd['2017-11-06'].mean()\n",
    "# atmPressStbd.min(), atmPressStbd.mean(), atmPressStbd.max()\n",
    "Stbd.min(), Stbd.mean(), Stbd.max()"
   ]
  },
  {
   "cell_type": "markdown",
   "metadata": {},
   "source": [
    "Find if there are any NaNs"
   ]
  },
  {
   "cell_type": "code",
   "execution_count": 572,
   "metadata": {},
   "outputs": [
    {
     "data": {
      "text/plain": [
       "[array([], dtype=int64)]"
      ]
     },
     "execution_count": 572,
     "metadata": {},
     "output_type": "execute_result"
    }
   ],
   "source": [
    "import numpy as np\n",
    "\n",
    "# indices = list(np.where(airTempPort.isnull()))\n",
    "# indices = list(np.where(atmPressPort.isnull()))\n",
    "indices = list(np.where(Port.isnull()))\n",
    "indices"
   ]
  },
  {
   "cell_type": "code",
   "execution_count": 573,
   "metadata": {},
   "outputs": [
    {
     "data": {
      "text/plain": [
       "[array([], dtype=int64)]"
      ]
     },
     "execution_count": 573,
     "metadata": {},
     "output_type": "execute_result"
    }
   ],
   "source": [
    "import numpy as np\n",
    "\n",
    "# indices = list(np.where(airTempStbd.isnull()))\n",
    "# indices = list(np.where(atmPressStbd.isnull()))\n",
    "indices = list(np.where(Stbd.isnull()))\n",
    "indices"
   ]
  },
  {
   "cell_type": "markdown",
   "metadata": {},
   "source": [
    "Plot time series for both sensors and correlation"
   ]
  },
  {
   "cell_type": "code",
   "execution_count": 574,
   "metadata": {},
   "outputs": [
    {
     "data": {
      "text/plain": [
       "<matplotlib.legend.Legend at 0x214100dcf98>"
      ]
     },
     "execution_count": 574,
     "metadata": {},
     "output_type": "execute_result"
    },
    {
     "data": {
      "image/png": "[encoded data removed]",
      "text/plain": [
       "<Figure size 432x288 with 1 Axes>"
      ]
     },
     "metadata": {
      "needs_background": "light"
     },
     "output_type": "display_data"
    }
   ],
   "source": [
    "# when plotting a series, pandas uses the index\n",
    "# as x axis labels, which is convenient\n",
    "%matplotlib inline\n",
    "\n",
    "# airTempPort.plot();\n",
    "# airTempStbd.plot();\n",
    "# atmPressPort.plot();\n",
    "# atmPressStbd.plot();\n",
    "Port.plot();\n",
    "Stbd.plot();\n",
    "\n",
    "plt.legend()"
   ]
  },
  {
   "cell_type": "code",
   "execution_count": 575,
   "metadata": {},
   "outputs": [
    {
     "data": {
      "text/plain": [
       "0.8790326901284465"
      ]
     },
     "execution_count": 575,
     "metadata": {},
     "output_type": "execute_result"
    }
   ],
   "source": [
    "# airTempPort.corr(airTempStbd)\n",
    "# atmPressPort.corr(atmPressStbd)\n",
    "# # note this correlation is not as appropriate for windDirectionTrue\n",
    "Port.corr(Stbd)"
   ]
  },
  {
   "cell_type": "code",
   "execution_count": 576,
   "metadata": {},
   "outputs": [
    {
     "data": {
      "text/plain": [
       "<matplotlib.legend.Legend at 0x2140ff6a240>"
      ]
     },
     "execution_count": 576,
     "metadata": {},
     "output_type": "execute_result"
    },
    {
     "data": {
      "image/png": "[encoded data removed]",
      "text/plain": [
       "<Figure size 432x288 with 1 Axes>"
      ]
     },
     "metadata": {
      "needs_background": "light"
     },
     "output_type": "display_data"
    }
   ],
   "source": [
    "# plot particular day\n",
    "\n",
    "# Select 2018-11-13 data - view first few records\n",
    "# airTempPort['2018-11-13'].head()\n",
    "\n",
    "%matplotlib inline\n",
    "\n",
    "# airTempPort['2019-10-11'].plot();\n",
    "# airTempStbd['2019-10-11'].plot();\n",
    "# atmPressPort['2019-10-11'].plot();\n",
    "# atmPressStbd['2019-10-11'].plot();\n",
    "Port['2017-09-02'].plot();\n",
    "Stbd['2017-09-02'].plot();\n",
    "plt.legend()\n"
   ]
  },
  {
   "cell_type": "markdown",
   "metadata": {},
   "source": [
    "Plot 1:1 line on scatterplot"
   ]
  },
  {
   "cell_type": "code",
   "execution_count": 580,
   "metadata": {},
   "outputs": [
    {
     "data": {
      "image/png": "[encoded data removed]",
      "text/plain": [
       "<Figure size 720x576 with 1 Axes>"
      ]
     },
     "metadata": {
      "needs_background": "light"
     },
     "output_type": "display_data"
    }
   ],
   "source": [
    "import matplotlib.pyplot as plt\n",
    "%matplotlib inline\n",
    "\n",
    "fig, ax = plt.subplots(figsize=(10,8))\n",
    "# ax.scatter(airTempPort, airTempStbd)\n",
    "# ax.scatter(atmPressPort, atmPressStbd)\n",
    "ax.scatter(Port, Stbd)\n",
    "\n",
    "ax.grid(True)\n",
    "# ax.set_xlabel('airTempPort')\n",
    "# ax.set_ylabel('airTempStbd')\n",
    "# ax.set_xlabel('atmPressPort')\n",
    "# ax.set_ylabel('atmPressStbd')\n",
    "# ax.set_xlabel('windSpeedTruePort')\n",
    "# ax.set_ylabel('windSpeedTrueStbd')\n",
    "ax.set_xlabel('windDirTruePort')\n",
    "ax.set_ylabel('windDirTrueStbd')\n",
    "# ax.set_xticks(range(0,22,2))\n",
    "# ax.set_yticks(range(0,22,2))\n",
    "ax.set_aspect('equal', 'box')\n",
    "# fig.tight_layout()\n",
    "figsize=(10,8)\n",
    "\n",
    "plt.show()"
   ]
  },
  {
   "cell_type": "markdown",
   "metadata": {},
   "source": [
    "Check for offset with slope and intercept of linear regression"
   ]
  },
  {
   "cell_type": "code",
   "execution_count": 579,
   "metadata": {},
   "outputs": [
    {
     "name": "stdout",
     "output_type": "stream",
     "text": [
      "slope then intercept: 0.8760577200387484 16.407083615279277\n"
     ]
    }
   ],
   "source": [
    "# Would like to get intercept of linear regression to be able to adjust Stbd offset when needed to fill Port NaN\n",
    "from scipy import stats\n",
    "import numpy as np\n",
    "\n",
    "# x = airTempPort\n",
    "# y = airTempStbd\n",
    "# x = atmPressPort\n",
    "# y = atmPressStbd\n",
    "x = Port\n",
    "y = Stbd\n",
    "# type(airTempPort) # pandas.core.series.Series\n",
    "# x and y need to be array_like\n",
    "# type(x.to_numpy())\n",
    "\n",
    "# need to deal with NaNs to get linear regression\n",
    "mask = ~np.isnan(x.to_numpy()) & ~np.isnan(y.to_numpy())\n",
    "slope, intercept, r_value, p_value, std_err = stats.linregress(x.to_numpy()[mask], y.to_numpy()[mask])\n",
    "\n",
    "# slope, intercept, r_value, p_value, std_err = stats.linregress(x.to_numpy(),y.to_numpy())\n",
    "print(\"slope then intercept:\", slope, intercept)\n"
   ]
  },
  {
   "cell_type": "markdown",
   "metadata": {},
   "source": [
    "## Assessment\n",
    "Armstrong cruises ar22 through ar39b:\n",
    "*airTemp sensors* airTempPort 'wxtp_ta' in general offset a bit higher than airTempStbd 'wxts_ta'; data provided with precision 0.1, so I think it is conservative to fill missing Port with Stbd + 0.1\n",
    "*atmPress sensors* match very well; in general I think one can be filled with the other\n",
    "*windSpeed sensors*\n",
    "\n",
    "### ar22\n",
    "wxtp_ta: airTempPort 'wxtp_ta' seems to be offset a bit higher than airTempStbd 'wxts_ta' but in the absence of any other info our default is to choose the 'first' column so that's Port\n",
    "\n",
    "barom_p: atmPress Port is less than Stbd for couple hours on 2017-09-03, without knowing any reason for this, I'd still say to use default \"1st\" sensor listed Port. Note no obvious sensor offset; regression slope is not 1:1.\n",
    "\n",
    "wxtp_ts: windSpeed looks like scattered around 1:1 except for Stbd offset greater than Port early on 2017-09-03\n",
    "\n",
    "wxtp_td: windDir in general 1:1 but some values Port 270 when Stbd 90 why offset 180 deg?\n",
    "\n",
    "### ar24a\n",
    "list of columns differs from 'regular' Armstrong underway data; has aml_sst, est_nitrate, est_phosphate\n",
    "wxtp_ta: as with previous cruise airTempPort 'wxtp_ta' seems to be offset a bit higher than airTempStbd 'wxts_ta' but in the absence of any other info our default is to choose the 'first' column so that's Port\n",
    "\n",
    "barom_p: atmPress Port matches very well to Stbd\n",
    "\n",
    "wxtp_ts: windSpeed both sensors missing 2 same separate data points, both have same outlier on 2017-10-25, Stbd may have more outliers on 2017-10-23, linear regression slope 0.9987 for the whole time series\n",
    "\n",
    "### ar24b\n",
    "Stbd met sensors missing 4 hrs on 2017-11-02\n",
    "wxtp_ta: as with previous cruises airTempPort 'wxtp_ta' seems to be offset a bit higher than airTempStbd 'wxts_ta', Stbd missing 4 hrs\n",
    "\n",
    "barom_p: atmPress Port matches very well to Stbd, Stbd missing 4 hrs\n",
    "\n",
    "wxtp_ts: windSpeed Stbd missing 4 hrs, when Stbd comes back on 2017-11-02 15:56:48.400000+00:00 both sensors have outlier 0.6, lots of scatter, regression slope is not 1:1\n",
    "\n",
    "### ar24c\n",
    "Port sensors missing 14 hrs on 2017-11-05\n",
    "When the Port sensors come back at 2017-11-05 22:49:43.386000+00:00 creates one time point (one row) with zero outlier for both sensors\n",
    "Could replace this time point or the exact match to zero with NaN\n",
    "wxts_ta: Stbd approx. 0.15 less than Port\n",
    "either provide wxts_ta + 0.1 or provide wxtp_ta as usual but fill blanks with wxts_ta + 0.1; in either case need to replace one time point or the exact match to zero with NaN\n",
    "\n",
    "barom_s: BUT need to replace one time point or the exact match to 2.1 with NaN; atmPress both sensors go to invalid number 2.1 likely due to altitude correction\n",
    "\n",
    "?wxts_ts: windSpeed scatterplot looks like Stbd measures slightly higher not an offset but an increase in slope, regression slope 1.01636, I did not see this for previous leg nor other comparisons\n",
    "\n",
    "### ar28a\n",
    "wxtp_ta: as with some previous cruises airTempPort 'wxtp_ta' seems to be offset a bit higher than airTempStbd 'wxts_ta'; looks like both sensors dip on the 25th and 26th\n",
    "\n",
    "barom_p: atmPress Port matches well to Stbd, sometimes Stbd appears to be maybe 0.1 higher but that is an insignificant fraction of the value\n",
    "\n",
    "### ar28b\n",
    "wxtp_ta: as with some previous cruises airTempPort 'wxtp_ta' seems to be offset a bit higher than airTempStbd 'wxts_ta', but not as steady as previous cruise ar28a\n",
    "\n",
    "barom_p: atmPress Port matches well to Stbd, sometimes Stbd appears to be maybe 0.1 higher but that is an insignificant fraction of the value\n",
    "\n",
    "### ar31a\n",
    "wxtp_ta: airTempPort 'wxtp_ta' very similar to airTempStbd 'wxts_ta'\n",
    "\n",
    "barom_p: atmPress Port matches well to Stbd\n",
    "\n",
    "### ar31b\n",
    "wxtp_ta: as with some previous cruises airTempPort 'wxtp_ta' seems to be offset a bit higher than airTempStbd 'wxts_ta', Stbd missing an hour on 2018-10-29\n",
    "\n",
    "barom_p: although Port slightly less than Stbd for some time on 2018-10-27 linear regression slope 0.999 for the whole time series, Stbd missing an hour on 2018-10-29\n",
    "\n",
    "### ar31c\n",
    "Port sensors missing 1 hr on 2018-11-08\n",
    "wxtp_ta: airTempPort 'wxtp_ta' similar to airTempStbd 'wxts_ta', but Port missing an hour on 2018-11-08\n",
    "\n",
    "barom_p: but Port missing an hour on 2018-11-08, linear regression slope 0.999 for the whole time series so could provide barom_s\n",
    "\n",
    "\n",
    "### ar32\n",
    "ar32 I opened the csv file to see that the starboard met sensors all were missing same 25 min of data\n",
    "\n",
    "wxtp_ta: airTempPort 'wxtp_ta' very similar to airTempStbd 'wxts_ta' some variability at the highest temperatures, Stbd missing some values\n",
    "\n",
    "barom_p: atmPressPort 'barom_p' very similar to atmPressStbd 'barom_s' some variability at the lower pressures, Stbd missing some values\n",
    "\n",
    "wxtp_ts: windSpeedTrue use Port, something happened to the Stbd wind speed sensor on 2018-11-13\n",
    "\n",
    "wxtp_td: windDirectionTrue use Port but direction not always exactly aligned with Stbd maybe due to orientation of the vessel into the wind\n",
    "\n",
    "### ar34a\n",
    "wxtp_ta: airTempPort 'wxtp_ta' very similar to airTempStbd 'wxts_ta'\n",
    "\n",
    "barom_p: although Port slightly less than Stbd for some time on 2019-04-04 linear regression slope 1.000 for the whole time series\n",
    "\n",
    "### ar34b\n",
    "wxtp_ta: as with some previous cruises airTempPort 'wxtp_ta' seems to be offset a bit higher than airTempStbd 'wxts_ta', but more variability off the 1:1 than some of the previous cruises\n",
    "\n",
    "barom_p: atmPress Port matches well to Stbd, sometimes Stbd appears to be maybe 0.1 higher but that is an insignificant fraction of the value\n",
    "\n",
    "### ar38\n",
    "wxtp_ta: as with some previous cruises airTempPort 'wxtp_ta' seems to be offset a bit higher than airTempStbd 'wxts_ta'\n",
    "\n",
    "barom_p: atmPress there is more variability in both of these sensors on this particular cruise as compared to previous Armstrong cruises, crazy looking scatterplot, regression slope is not 1:1. What happened on 2019-09-20 at approx 15:00 and lasted ~1 day?\n",
    "\n",
    "### ar39a\n",
    "Port met sensors missing 20 min\n",
    "Stbd met sensors missing different 2 min\n",
    "wxtp_ta: as with some previous cruises airTempPort 'wxtp_ta' seems to be offset about 0.1 higher than airTempStbd 'wxts_ta', Port missing 20 min, Stbd missing different 2 min, Stbd looks a bit more spiky\n",
    "\n",
    "barom_p: atmPress Port matches well to Stbd, atmPress Port missing 20 min, Stbd missing different 2 min, linear regression slope 1.0005 for the whole time series\n",
    "\n",
    "### ar39b\n",
    "Port sensors missing 22 hrs 2019-10-11 into 2019-10-12\n",
    "airTemp sensors as with some previous cruises airTempPort 'wxtp_ta' seems to be offset about 0.1 higher than airTempStbd 'wxts_ta'; linear regression intercept -0.0855\n",
    "appear to provide data with precision 0.1, so I think it is conservative to fill missing Port with Stbd + 0.1\n",
    "either provide wxts_ta + 0.1 or provide wxtp_ta as usual but fill blanks with wxts_ta + 0.1\n",
    "\n",
    "barom_s: Stbd has a slight outlier on 2019-10-11 while Port is missing, Port less than Stbd for some of 2019-10-08, linear regression slope 0.9986 for the whole time series\n"
   ]
  }
 ],
 "metadata": {
  "kernelspec": {
   "display_name": "Python 3",
   "language": "python",
   "name": "python3"
  },
  "language_info": {
   "codemirror_mode": {
    "name": "ipython",
    "version": 3
   },
   "file_extension": ".py",
   "mimetype": "text/x-python",
   "name": "python",
   "nbconvert_exporter": "python",
   "pygments_lexer": "ipython3",
   "version": "3.7.3"
  }
 },
 "nbformat": 4,
 "nbformat_minor": 2
}
